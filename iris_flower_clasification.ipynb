{
  "nbformat": 4,
  "nbformat_minor": 0,
  "metadata": {
    "colab": {
      "name": "iris flower clasification",
      "provenance": [],
      "collapsed_sections": []
    },
    "kernelspec": {
      "name": "python3",
      "display_name": "Python 3"
    },
    "language_info": {
      "name": "python"
    }
  },
  "cells": [
    {
      "cell_type": "code",
      "metadata": {
        "id": "d-c22vKWtR-6"
      },
      "source": [
        "import pandas as pd\n",
        "import numpy as np\n",
        "import tensorflow as tf\n",
        "from sklearn.preprocessing import LabelEncoder\n",
        "from tensorflow.keras.utils import to_categorical"
      ],
      "execution_count": null,
      "outputs": []
    },
    {
      "cell_type": "code",
      "metadata": {
        "colab": {
          "base_uri": "https://localhost:8080/",
          "height": 206
        },
        "id": "ASKARBQxvLfQ",
        "outputId": "cc93dfef-c74a-4c44-d4ac-11997099fa4f"
      },
      "source": [
        "import pandas as pd\n",
        "df = pd.read_csv('iris.data')\n",
        "df.head()\n"
      ],
      "execution_count": null,
      "outputs": [
        {
          "output_type": "execute_result",
          "data": {
            "text/html": [
              "<div>\n",
              "<style scoped>\n",
              "    .dataframe tbody tr th:only-of-type {\n",
              "        vertical-align: middle;\n",
              "    }\n",
              "\n",
              "    .dataframe tbody tr th {\n",
              "        vertical-align: top;\n",
              "    }\n",
              "\n",
              "    .dataframe thead th {\n",
              "        text-align: right;\n",
              "    }\n",
              "</style>\n",
              "<table border=\"1\" class=\"dataframe\">\n",
              "  <thead>\n",
              "    <tr style=\"text-align: right;\">\n",
              "      <th></th>\n",
              "      <th>5.1</th>\n",
              "      <th>3.5</th>\n",
              "      <th>1.4</th>\n",
              "      <th>0.2</th>\n",
              "      <th>Iris-setosa</th>\n",
              "    </tr>\n",
              "  </thead>\n",
              "  <tbody>\n",
              "    <tr>\n",
              "      <th>0</th>\n",
              "      <td>4.9</td>\n",
              "      <td>3.0</td>\n",
              "      <td>1.4</td>\n",
              "      <td>0.2</td>\n",
              "      <td>Iris-setosa</td>\n",
              "    </tr>\n",
              "    <tr>\n",
              "      <th>1</th>\n",
              "      <td>4.7</td>\n",
              "      <td>3.2</td>\n",
              "      <td>1.3</td>\n",
              "      <td>0.2</td>\n",
              "      <td>Iris-setosa</td>\n",
              "    </tr>\n",
              "    <tr>\n",
              "      <th>2</th>\n",
              "      <td>4.6</td>\n",
              "      <td>3.1</td>\n",
              "      <td>1.5</td>\n",
              "      <td>0.2</td>\n",
              "      <td>Iris-setosa</td>\n",
              "    </tr>\n",
              "    <tr>\n",
              "      <th>3</th>\n",
              "      <td>5.0</td>\n",
              "      <td>3.6</td>\n",
              "      <td>1.4</td>\n",
              "      <td>0.2</td>\n",
              "      <td>Iris-setosa</td>\n",
              "    </tr>\n",
              "    <tr>\n",
              "      <th>4</th>\n",
              "      <td>5.4</td>\n",
              "      <td>3.9</td>\n",
              "      <td>1.7</td>\n",
              "      <td>0.4</td>\n",
              "      <td>Iris-setosa</td>\n",
              "    </tr>\n",
              "  </tbody>\n",
              "</table>\n",
              "</div>"
            ],
            "text/plain": [
              "   5.1  3.5  1.4  0.2  Iris-setosa\n",
              "0  4.9  3.0  1.4  0.2  Iris-setosa\n",
              "1  4.7  3.2  1.3  0.2  Iris-setosa\n",
              "2  4.6  3.1  1.5  0.2  Iris-setosa\n",
              "3  5.0  3.6  1.4  0.2  Iris-setosa\n",
              "4  5.4  3.9  1.7  0.4  Iris-setosa"
            ]
          },
          "metadata": {
            "tags": []
          },
          "execution_count": 18
        }
      ]
    },
    {
      "cell_type": "markdown",
      "metadata": {
        "id": "X9x-sc5oXmDo"
      },
      "source": [
        "Membagi data dependen(y) dan independen(x)"
      ]
    },
    {
      "cell_type": "code",
      "metadata": {
        "id": "iqCrsEkhwzt4",
        "colab": {
          "base_uri": "https://localhost:8080/",
          "height": 185
        },
        "outputId": "a4a31790-5491-48fb-ad08-eee330c3af1d"
      },
      "source": [
        "x = df.iloc[:, :4].values\n",
        "y = df.iloc[:, 4].values\n"
      ],
      "execution_count": null,
      "outputs": [
        {
          "output_type": "error",
          "ename": "NameError",
          "evalue": "ignored",
          "traceback": [
            "\u001b[0;31m---------------------------------------------------------------------------\u001b[0m",
            "\u001b[0;31mNameError\u001b[0m                                 Traceback (most recent call last)",
            "\u001b[0;32m<ipython-input-1-57392bbc9cdf>\u001b[0m in \u001b[0;36m<module>\u001b[0;34m()\u001b[0m\n\u001b[0;32m----> 1\u001b[0;31m \u001b[0mx\u001b[0m \u001b[0;34m=\u001b[0m \u001b[0mdf\u001b[0m\u001b[0;34m.\u001b[0m\u001b[0miloc\u001b[0m\u001b[0;34m[\u001b[0m\u001b[0;34m:\u001b[0m\u001b[0;34m,\u001b[0m \u001b[0;34m:\u001b[0m\u001b[0;36m4\u001b[0m\u001b[0;34m]\u001b[0m\u001b[0;34m.\u001b[0m\u001b[0mvalues\u001b[0m\u001b[0;34m\u001b[0m\u001b[0;34m\u001b[0m\u001b[0m\n\u001b[0m\u001b[1;32m      2\u001b[0m \u001b[0my\u001b[0m \u001b[0;34m=\u001b[0m \u001b[0mdf\u001b[0m\u001b[0;34m.\u001b[0m\u001b[0miloc\u001b[0m\u001b[0;34m[\u001b[0m\u001b[0;34m:\u001b[0m\u001b[0;34m,\u001b[0m \u001b[0;36m4\u001b[0m\u001b[0;34m]\u001b[0m\u001b[0;34m.\u001b[0m\u001b[0mvalues\u001b[0m\u001b[0;34m\u001b[0m\u001b[0;34m\u001b[0m\u001b[0m\n",
            "\u001b[0;31mNameError\u001b[0m: name 'df' is not defined"
          ]
        }
      ]
    },
    {
      "cell_type": "code",
      "metadata": {
        "id": "C3Z2drz8xR-w"
      },
      "source": [
        "le = LabelEncoder()\n"
      ],
      "execution_count": null,
      "outputs": []
    },
    {
      "cell_type": "code",
      "metadata": {
        "id": "8Hu9bxZ0xltH"
      },
      "source": [
        "y = le.fit_transform(y)\n",
        "y = to_categorical(y)"
      ],
      "execution_count": null,
      "outputs": []
    },
    {
      "cell_type": "code",
      "metadata": {
        "id": "qpoivf-Dxtt7"
      },
      "source": [
        "from tensorflow.keras.layers import Dense\n",
        "from tensorflow.keras.models import Sequential"
      ],
      "execution_count": null,
      "outputs": []
    },
    {
      "cell_type": "code",
      "metadata": {
        "id": "vlIWhtiSyFNh"
      },
      "source": [
        "model = Sequential()\n",
        "model.add(Dense(64, activation='relu', input_shape=[4]))\n",
        "model.add(Dense(64))\n",
        "model.add(Dense(3, activation='softmax'))"
      ],
      "execution_count": null,
      "outputs": []
    },
    {
      "cell_type": "code",
      "metadata": {
        "id": "rzG0Lmsqy0n2"
      },
      "source": [
        "model.compile(optimizer='sgd', loss='categorical_crossentropy', metrics=['acc'])"
      ],
      "execution_count": null,
      "outputs": []
    },
    {
      "cell_type": "code",
      "metadata": {
        "id": "a6bvvpQo79AJ",
        "colab": {
          "base_uri": "https://localhost:8080/"
        },
        "outputId": "f829706c-c9e3-43ef-a1eb-b80c155c41e4"
      },
      "source": [
        "model.fit(x,y, epochs = 200)"
      ],
      "execution_count": null,
      "outputs": [
        {
          "output_type": "stream",
          "text": [
            "Epoch 1/200\n",
            "5/5 [==============================] - 1s 3ms/step - loss: 1.1417 - acc: 0.3893\n",
            "Epoch 2/200\n",
            "5/5 [==============================] - 0s 3ms/step - loss: 0.9567 - acc: 0.3691\n",
            "Epoch 3/200\n",
            "5/5 [==============================] - 0s 2ms/step - loss: 0.9052 - acc: 0.4698\n",
            "Epoch 4/200\n",
            "5/5 [==============================] - 0s 3ms/step - loss: 0.8695 - acc: 0.5302\n",
            "Epoch 5/200\n",
            "5/5 [==============================] - 0s 3ms/step - loss: 0.7972 - acc: 0.6510\n",
            "Epoch 6/200\n",
            "5/5 [==============================] - 0s 3ms/step - loss: 0.7613 - acc: 0.8054\n",
            "Epoch 7/200\n",
            "5/5 [==============================] - 0s 3ms/step - loss: 0.7416 - acc: 0.7919\n",
            "Epoch 8/200\n",
            "5/5 [==============================] - 0s 3ms/step - loss: 0.7043 - acc: 0.7584\n",
            "Epoch 9/200\n",
            "5/5 [==============================] - 0s 3ms/step - loss: 0.6608 - acc: 0.8322\n",
            "Epoch 10/200\n",
            "5/5 [==============================] - 0s 3ms/step - loss: 0.6564 - acc: 0.7785\n",
            "Epoch 11/200\n",
            "5/5 [==============================] - 0s 4ms/step - loss: 0.6121 - acc: 0.7450\n",
            "Epoch 12/200\n",
            "5/5 [==============================] - 0s 3ms/step - loss: 0.5931 - acc: 0.8456\n",
            "Epoch 13/200\n",
            "5/5 [==============================] - 0s 3ms/step - loss: 0.5907 - acc: 0.7450\n",
            "Epoch 14/200\n",
            "5/5 [==============================] - 0s 3ms/step - loss: 0.5555 - acc: 0.7517\n",
            "Epoch 15/200\n",
            "5/5 [==============================] - 0s 3ms/step - loss: 0.5554 - acc: 0.8255\n",
            "Epoch 16/200\n",
            "5/5 [==============================] - 0s 3ms/step - loss: 0.5613 - acc: 0.7651\n",
            "Epoch 17/200\n",
            "5/5 [==============================] - 0s 3ms/step - loss: 0.5369 - acc: 0.7852\n",
            "Epoch 18/200\n",
            "5/5 [==============================] - 0s 3ms/step - loss: 0.5132 - acc: 0.8993\n",
            "Epoch 19/200\n",
            "5/5 [==============================] - 0s 3ms/step - loss: 0.5217 - acc: 0.8054\n",
            "Epoch 20/200\n",
            "5/5 [==============================] - 0s 3ms/step - loss: 0.4959 - acc: 0.8322\n",
            "Epoch 21/200\n",
            "5/5 [==============================] - 0s 3ms/step - loss: 0.4864 - acc: 0.8255\n",
            "Epoch 22/200\n",
            "5/5 [==============================] - 0s 3ms/step - loss: 0.4633 - acc: 0.8523\n",
            "Epoch 23/200\n",
            "5/5 [==============================] - 0s 3ms/step - loss: 0.4613 - acc: 0.8792\n",
            "Epoch 24/200\n",
            "5/5 [==============================] - 0s 3ms/step - loss: 0.4458 - acc: 0.8725\n",
            "Epoch 25/200\n",
            "5/5 [==============================] - 0s 3ms/step - loss: 0.4330 - acc: 0.9262\n",
            "Epoch 26/200\n",
            "5/5 [==============================] - 0s 4ms/step - loss: 0.4236 - acc: 0.8725\n",
            "Epoch 27/200\n",
            "5/5 [==============================] - 0s 5ms/step - loss: 0.4181 - acc: 0.9329\n",
            "Epoch 28/200\n",
            "5/5 [==============================] - 0s 5ms/step - loss: 0.4099 - acc: 0.9195\n",
            "Epoch 29/200\n",
            "5/5 [==============================] - 0s 3ms/step - loss: 0.4032 - acc: 0.9195\n",
            "Epoch 30/200\n",
            "5/5 [==============================] - 0s 5ms/step - loss: 0.4333 - acc: 0.8658\n",
            "Epoch 31/200\n",
            "5/5 [==============================] - 0s 4ms/step - loss: 0.4173 - acc: 0.8322\n",
            "Epoch 32/200\n",
            "5/5 [==============================] - 0s 5ms/step - loss: 0.3819 - acc: 0.9530\n",
            "Epoch 33/200\n",
            "5/5 [==============================] - 0s 4ms/step - loss: 0.3796 - acc: 0.9195\n",
            "Epoch 34/200\n",
            "5/5 [==============================] - 0s 6ms/step - loss: 0.3842 - acc: 0.9128\n",
            "Epoch 35/200\n",
            "5/5 [==============================] - 0s 4ms/step - loss: 0.3638 - acc: 0.9195\n",
            "Epoch 36/200\n",
            "5/5 [==============================] - 0s 5ms/step - loss: 0.3636 - acc: 0.9530\n",
            "Epoch 37/200\n",
            "5/5 [==============================] - 0s 5ms/step - loss: 0.3516 - acc: 0.9329\n",
            "Epoch 38/200\n",
            "5/5 [==============================] - 0s 4ms/step - loss: 0.3533 - acc: 0.9396\n",
            "Epoch 39/200\n",
            "5/5 [==============================] - 0s 3ms/step - loss: 0.3464 - acc: 0.9329\n",
            "Epoch 40/200\n",
            "5/5 [==============================] - 0s 4ms/step - loss: 0.3550 - acc: 0.8993\n",
            "Epoch 41/200\n",
            "5/5 [==============================] - 0s 3ms/step - loss: 0.3370 - acc: 0.9597\n",
            "Epoch 42/200\n",
            "5/5 [==============================] - 0s 3ms/step - loss: 0.3284 - acc: 0.9396\n",
            "Epoch 43/200\n",
            "5/5 [==============================] - 0s 4ms/step - loss: 0.3277 - acc: 0.9396\n",
            "Epoch 44/200\n",
            "5/5 [==============================] - 0s 5ms/step - loss: 0.3240 - acc: 0.9597\n",
            "Epoch 45/200\n",
            "5/5 [==============================] - 0s 3ms/step - loss: 0.3172 - acc: 0.9262\n",
            "Epoch 46/200\n",
            "5/5 [==============================] - 0s 4ms/step - loss: 0.3104 - acc: 0.9597\n",
            "Epoch 47/200\n",
            "5/5 [==============================] - 0s 4ms/step - loss: 0.3157 - acc: 0.9262\n",
            "Epoch 48/200\n",
            "5/5 [==============================] - 0s 4ms/step - loss: 0.3033 - acc: 0.9329\n",
            "Epoch 49/200\n",
            "5/5 [==============================] - 0s 4ms/step - loss: 0.3205 - acc: 0.9329\n",
            "Epoch 50/200\n",
            "5/5 [==============================] - 0s 4ms/step - loss: 0.2939 - acc: 0.9664\n",
            "Epoch 51/200\n",
            "5/5 [==============================] - 0s 4ms/step - loss: 0.2946 - acc: 0.9463\n",
            "Epoch 52/200\n",
            "5/5 [==============================] - 0s 4ms/step - loss: 0.2985 - acc: 0.9329\n",
            "Epoch 53/200\n",
            "5/5 [==============================] - 0s 3ms/step - loss: 0.2882 - acc: 0.9597\n",
            "Epoch 54/200\n",
            "5/5 [==============================] - 0s 3ms/step - loss: 0.2864 - acc: 0.9128\n",
            "Epoch 55/200\n",
            "5/5 [==============================] - 0s 3ms/step - loss: 0.2748 - acc: 0.9799\n",
            "Epoch 56/200\n",
            "5/5 [==============================] - 0s 3ms/step - loss: 0.2682 - acc: 0.9530\n",
            "Epoch 57/200\n",
            "5/5 [==============================] - 0s 3ms/step - loss: 0.2786 - acc: 0.9463\n",
            "Epoch 58/200\n",
            "5/5 [==============================] - 0s 3ms/step - loss: 0.2600 - acc: 0.9664\n",
            "Epoch 59/200\n",
            "5/5 [==============================] - 0s 3ms/step - loss: 0.2699 - acc: 0.9262\n",
            "Epoch 60/200\n",
            "5/5 [==============================] - 0s 3ms/step - loss: 0.2596 - acc: 0.9597\n",
            "Epoch 61/200\n",
            "5/5 [==============================] - 0s 5ms/step - loss: 0.2631 - acc: 0.9530\n",
            "Epoch 62/200\n",
            "5/5 [==============================] - 0s 4ms/step - loss: 0.2510 - acc: 0.9597\n",
            "Epoch 63/200\n",
            "5/5 [==============================] - 0s 3ms/step - loss: 0.2509 - acc: 0.9664\n",
            "Epoch 64/200\n",
            "5/5 [==============================] - 0s 3ms/step - loss: 0.2375 - acc: 0.9664\n",
            "Epoch 65/200\n",
            "5/5 [==============================] - 0s 3ms/step - loss: 0.2400 - acc: 0.9597\n",
            "Epoch 66/200\n",
            "5/5 [==============================] - 0s 2ms/step - loss: 0.2461 - acc: 0.9396\n",
            "Epoch 67/200\n",
            "5/5 [==============================] - 0s 4ms/step - loss: 0.2510 - acc: 0.9396\n",
            "Epoch 68/200\n",
            "5/5 [==============================] - 0s 3ms/step - loss: 0.2287 - acc: 0.9463\n",
            "Epoch 69/200\n",
            "5/5 [==============================] - 0s 4ms/step - loss: 0.2291 - acc: 0.9530\n",
            "Epoch 70/200\n",
            "5/5 [==============================] - 0s 3ms/step - loss: 0.2202 - acc: 0.9597\n",
            "Epoch 71/200\n",
            "5/5 [==============================] - 0s 4ms/step - loss: 0.2158 - acc: 0.9597\n",
            "Epoch 72/200\n",
            "5/5 [==============================] - 0s 3ms/step - loss: 0.2292 - acc: 0.9530\n",
            "Epoch 73/200\n",
            "5/5 [==============================] - 0s 4ms/step - loss: 0.2170 - acc: 0.9732\n",
            "Epoch 74/200\n",
            "5/5 [==============================] - 0s 3ms/step - loss: 0.2148 - acc: 0.9463\n",
            "Epoch 75/200\n",
            "5/5 [==============================] - 0s 4ms/step - loss: 0.2082 - acc: 0.9664\n",
            "Epoch 76/200\n",
            "5/5 [==============================] - 0s 5ms/step - loss: 0.2129 - acc: 0.9664\n",
            "Epoch 77/200\n",
            "5/5 [==============================] - 0s 8ms/step - loss: 0.2103 - acc: 0.9530\n",
            "Epoch 78/200\n",
            "5/5 [==============================] - 0s 6ms/step - loss: 0.2070 - acc: 0.9530\n",
            "Epoch 79/200\n",
            "5/5 [==============================] - 0s 3ms/step - loss: 0.2053 - acc: 0.9664\n",
            "Epoch 80/200\n",
            "5/5 [==============================] - 0s 3ms/step - loss: 0.2124 - acc: 0.9463\n",
            "Epoch 81/200\n",
            "5/5 [==============================] - 0s 4ms/step - loss: 0.2005 - acc: 0.9799\n",
            "Epoch 82/200\n",
            "5/5 [==============================] - 0s 3ms/step - loss: 0.2087 - acc: 0.9597\n",
            "Epoch 83/200\n",
            "5/5 [==============================] - 0s 3ms/step - loss: 0.2082 - acc: 0.9329\n",
            "Epoch 84/200\n",
            "5/5 [==============================] - 0s 4ms/step - loss: 0.1940 - acc: 0.9597\n",
            "Epoch 85/200\n",
            "5/5 [==============================] - 0s 3ms/step - loss: 0.1921 - acc: 0.9732\n",
            "Epoch 86/200\n",
            "5/5 [==============================] - 0s 4ms/step - loss: 0.1954 - acc: 0.9597\n",
            "Epoch 87/200\n",
            "5/5 [==============================] - 0s 3ms/step - loss: 0.1894 - acc: 0.9597\n",
            "Epoch 88/200\n",
            "5/5 [==============================] - 0s 3ms/step - loss: 0.1876 - acc: 0.9597\n",
            "Epoch 89/200\n",
            "5/5 [==============================] - 0s 4ms/step - loss: 0.1933 - acc: 0.9597\n",
            "Epoch 90/200\n",
            "5/5 [==============================] - 0s 4ms/step - loss: 0.1885 - acc: 0.9732\n",
            "Epoch 91/200\n",
            "5/5 [==============================] - 0s 3ms/step - loss: 0.1800 - acc: 0.9597\n",
            "Epoch 92/200\n",
            "5/5 [==============================] - 0s 3ms/step - loss: 0.1984 - acc: 0.9329\n",
            "Epoch 93/200\n",
            "5/5 [==============================] - 0s 3ms/step - loss: 0.1703 - acc: 0.9732\n",
            "Epoch 94/200\n",
            "5/5 [==============================] - 0s 6ms/step - loss: 0.1873 - acc: 0.9530\n",
            "Epoch 95/200\n",
            "5/5 [==============================] - 0s 4ms/step - loss: 0.1960 - acc: 0.9463\n",
            "Epoch 96/200\n",
            "5/5 [==============================] - 0s 4ms/step - loss: 0.1657 - acc: 0.9799\n",
            "Epoch 97/200\n",
            "5/5 [==============================] - 0s 4ms/step - loss: 0.1904 - acc: 0.9396\n",
            "Epoch 98/200\n",
            "5/5 [==============================] - 0s 5ms/step - loss: 0.1727 - acc: 0.9597\n",
            "Epoch 99/200\n",
            "5/5 [==============================] - 0s 4ms/step - loss: 0.1709 - acc: 0.9597\n",
            "Epoch 100/200\n",
            "5/5 [==============================] - 0s 4ms/step - loss: 0.1848 - acc: 0.9664\n",
            "Epoch 101/200\n",
            "5/5 [==============================] - 0s 3ms/step - loss: 0.1600 - acc: 0.9732\n",
            "Epoch 102/200\n",
            "5/5 [==============================] - 0s 3ms/step - loss: 0.1659 - acc: 0.9732\n",
            "Epoch 103/200\n",
            "5/5 [==============================] - 0s 3ms/step - loss: 0.1712 - acc: 0.9664\n",
            "Epoch 104/200\n",
            "5/5 [==============================] - 0s 3ms/step - loss: 0.1586 - acc: 0.9664\n",
            "Epoch 105/200\n",
            "5/5 [==============================] - 0s 3ms/step - loss: 0.1569 - acc: 0.9664\n",
            "Epoch 106/200\n",
            "5/5 [==============================] - 0s 3ms/step - loss: 0.1523 - acc: 0.9799\n",
            "Epoch 107/200\n",
            "5/5 [==============================] - 0s 3ms/step - loss: 0.1624 - acc: 0.9664\n",
            "Epoch 108/200\n",
            "5/5 [==============================] - 0s 4ms/step - loss: 0.1617 - acc: 0.9732\n",
            "Epoch 109/200\n",
            "5/5 [==============================] - 0s 3ms/step - loss: 0.1680 - acc: 0.9597\n",
            "Epoch 110/200\n",
            "5/5 [==============================] - 0s 3ms/step - loss: 0.1470 - acc: 0.9799\n",
            "Epoch 111/200\n",
            "5/5 [==============================] - 0s 4ms/step - loss: 0.1497 - acc: 0.9799\n",
            "Epoch 112/200\n",
            "5/5 [==============================] - 0s 5ms/step - loss: 0.1640 - acc: 0.9463\n",
            "Epoch 113/200\n",
            "5/5 [==============================] - 0s 3ms/step - loss: 0.1440 - acc: 0.9732\n",
            "Epoch 114/200\n",
            "5/5 [==============================] - 0s 5ms/step - loss: 0.1461 - acc: 0.9664\n",
            "Epoch 115/200\n",
            "5/5 [==============================] - 0s 5ms/step - loss: 0.1559 - acc: 0.9597\n",
            "Epoch 116/200\n",
            "5/5 [==============================] - 0s 3ms/step - loss: 0.1422 - acc: 0.9799\n",
            "Epoch 117/200\n",
            "5/5 [==============================] - 0s 4ms/step - loss: 0.1390 - acc: 0.9732\n",
            "Epoch 118/200\n",
            "5/5 [==============================] - 0s 3ms/step - loss: 0.1482 - acc: 0.9597\n",
            "Epoch 119/200\n",
            "5/5 [==============================] - 0s 4ms/step - loss: 0.1432 - acc: 0.9732\n",
            "Epoch 120/200\n",
            "5/5 [==============================] - 0s 3ms/step - loss: 0.1369 - acc: 0.9799\n",
            "Epoch 121/200\n",
            "5/5 [==============================] - 0s 3ms/step - loss: 0.1420 - acc: 0.9463\n",
            "Epoch 122/200\n",
            "5/5 [==============================] - 0s 3ms/step - loss: 0.1422 - acc: 0.9463\n",
            "Epoch 123/200\n",
            "5/5 [==============================] - 0s 3ms/step - loss: 0.1394 - acc: 0.9799\n",
            "Epoch 124/200\n",
            "5/5 [==============================] - 0s 3ms/step - loss: 0.1548 - acc: 0.9463\n",
            "Epoch 125/200\n",
            "5/5 [==============================] - 0s 3ms/step - loss: 0.1327 - acc: 0.9866\n",
            "Epoch 126/200\n",
            "5/5 [==============================] - 0s 4ms/step - loss: 0.1453 - acc: 0.9530\n",
            "Epoch 127/200\n",
            "5/5 [==============================] - 0s 3ms/step - loss: 0.1457 - acc: 0.9530\n",
            "Epoch 128/200\n",
            "5/5 [==============================] - 0s 3ms/step - loss: 0.1300 - acc: 0.9732\n",
            "Epoch 129/200\n",
            "5/5 [==============================] - 0s 3ms/step - loss: 0.1379 - acc: 0.9732\n",
            "Epoch 130/200\n",
            "5/5 [==============================] - 0s 3ms/step - loss: 0.1307 - acc: 0.9866\n",
            "Epoch 131/200\n",
            "5/5 [==============================] - 0s 4ms/step - loss: 0.1328 - acc: 0.9597\n",
            "Epoch 132/200\n",
            "5/5 [==============================] - 0s 5ms/step - loss: 0.1299 - acc: 0.9732\n",
            "Epoch 133/200\n",
            "5/5 [==============================] - 0s 3ms/step - loss: 0.1367 - acc: 0.9664\n",
            "Epoch 134/200\n",
            "5/5 [==============================] - 0s 3ms/step - loss: 0.1301 - acc: 0.9664\n",
            "Epoch 135/200\n",
            "5/5 [==============================] - 0s 3ms/step - loss: 0.1288 - acc: 0.9866\n",
            "Epoch 136/200\n",
            "5/5 [==============================] - 0s 4ms/step - loss: 0.1471 - acc: 0.9396\n",
            "Epoch 137/200\n",
            "5/5 [==============================] - 0s 4ms/step - loss: 0.1348 - acc: 0.9597\n",
            "Epoch 138/200\n",
            "5/5 [==============================] - 0s 8ms/step - loss: 0.1295 - acc: 0.9664\n",
            "Epoch 139/200\n",
            "5/5 [==============================] - 0s 4ms/step - loss: 0.1301 - acc: 0.9597\n",
            "Epoch 140/200\n",
            "5/5 [==============================] - 0s 4ms/step - loss: 0.1235 - acc: 0.9799\n",
            "Epoch 141/200\n",
            "5/5 [==============================] - 0s 8ms/step - loss: 0.1334 - acc: 0.9732\n",
            "Epoch 142/200\n",
            "5/5 [==============================] - 0s 5ms/step - loss: 0.1204 - acc: 0.9799\n",
            "Epoch 143/200\n",
            "5/5 [==============================] - 0s 5ms/step - loss: 0.1201 - acc: 0.9799\n",
            "Epoch 144/200\n",
            "5/5 [==============================] - 0s 4ms/step - loss: 0.1186 - acc: 0.9799\n",
            "Epoch 145/200\n",
            "5/5 [==============================] - 0s 4ms/step - loss: 0.1287 - acc: 0.9799\n",
            "Epoch 146/200\n",
            "5/5 [==============================] - 0s 5ms/step - loss: 0.1488 - acc: 0.9329\n",
            "Epoch 147/200\n",
            "5/5 [==============================] - 0s 5ms/step - loss: 0.1267 - acc: 0.9732\n",
            "Epoch 148/200\n",
            "5/5 [==============================] - 0s 5ms/step - loss: 0.1257 - acc: 0.9530\n",
            "Epoch 149/200\n",
            "5/5 [==============================] - 0s 3ms/step - loss: 0.1636 - acc: 0.9329\n",
            "Epoch 150/200\n",
            "5/5 [==============================] - 0s 4ms/step - loss: 0.1168 - acc: 0.9799\n",
            "Epoch 151/200\n",
            "5/5 [==============================] - 0s 3ms/step - loss: 0.1210 - acc: 0.9597\n",
            "Epoch 152/200\n",
            "5/5 [==============================] - 0s 6ms/step - loss: 0.1185 - acc: 0.9597\n",
            "Epoch 153/200\n",
            "5/5 [==============================] - 0s 3ms/step - loss: 0.1305 - acc: 0.9530\n",
            "Epoch 154/200\n",
            "5/5 [==============================] - 0s 3ms/step - loss: 0.1478 - acc: 0.9463\n",
            "Epoch 155/200\n",
            "5/5 [==============================] - 0s 4ms/step - loss: 0.1303 - acc: 0.9463\n",
            "Epoch 156/200\n",
            "5/5 [==============================] - 0s 5ms/step - loss: 0.1160 - acc: 0.9664\n",
            "Epoch 157/200\n",
            "5/5 [==============================] - 0s 5ms/step - loss: 0.1148 - acc: 0.9732\n",
            "Epoch 158/200\n",
            "5/5 [==============================] - 0s 3ms/step - loss: 0.1216 - acc: 0.9597\n",
            "Epoch 159/200\n",
            "5/5 [==============================] - 0s 4ms/step - loss: 0.1152 - acc: 0.9732\n",
            "Epoch 160/200\n",
            "5/5 [==============================] - 0s 3ms/step - loss: 0.1233 - acc: 0.9530\n",
            "Epoch 161/200\n",
            "5/5 [==============================] - 0s 4ms/step - loss: 0.1330 - acc: 0.9597\n",
            "Epoch 162/200\n",
            "5/5 [==============================] - 0s 4ms/step - loss: 0.1166 - acc: 0.9799\n",
            "Epoch 163/200\n",
            "5/5 [==============================] - 0s 4ms/step - loss: 0.1114 - acc: 0.9933\n",
            "Epoch 164/200\n",
            "5/5 [==============================] - 0s 5ms/step - loss: 0.1105 - acc: 0.9799\n",
            "Epoch 165/200\n",
            "5/5 [==============================] - 0s 4ms/step - loss: 0.1126 - acc: 0.9732\n",
            "Epoch 166/200\n",
            "5/5 [==============================] - 0s 3ms/step - loss: 0.1212 - acc: 0.9597\n",
            "Epoch 167/200\n",
            "5/5 [==============================] - 0s 3ms/step - loss: 0.1181 - acc: 0.9664\n",
            "Epoch 168/200\n",
            "5/5 [==============================] - 0s 5ms/step - loss: 0.1207 - acc: 0.9597\n",
            "Epoch 169/200\n",
            "5/5 [==============================] - 0s 5ms/step - loss: 0.1112 - acc: 0.9664\n",
            "Epoch 170/200\n",
            "5/5 [==============================] - 0s 4ms/step - loss: 0.1168 - acc: 0.9597\n",
            "Epoch 171/200\n",
            "5/5 [==============================] - 0s 3ms/step - loss: 0.1077 - acc: 0.9799\n",
            "Epoch 172/200\n",
            "5/5 [==============================] - 0s 5ms/step - loss: 0.1122 - acc: 0.9664\n",
            "Epoch 173/200\n",
            "5/5 [==============================] - 0s 5ms/step - loss: 0.1095 - acc: 0.9732\n",
            "Epoch 174/200\n",
            "5/5 [==============================] - 0s 6ms/step - loss: 0.1167 - acc: 0.9597\n",
            "Epoch 175/200\n",
            "5/5 [==============================] - 0s 4ms/step - loss: 0.1181 - acc: 0.9799\n",
            "Epoch 176/200\n",
            "5/5 [==============================] - 0s 4ms/step - loss: 0.1048 - acc: 0.9732\n",
            "Epoch 177/200\n",
            "5/5 [==============================] - 0s 4ms/step - loss: 0.1034 - acc: 0.9732\n",
            "Epoch 178/200\n",
            "5/5 [==============================] - 0s 4ms/step - loss: 0.1013 - acc: 0.9866\n",
            "Epoch 179/200\n",
            "5/5 [==============================] - 0s 4ms/step - loss: 0.1066 - acc: 0.9799\n",
            "Epoch 180/200\n",
            "5/5 [==============================] - 0s 5ms/step - loss: 0.1014 - acc: 0.9664\n",
            "Epoch 181/200\n",
            "5/5 [==============================] - 0s 3ms/step - loss: 0.1069 - acc: 0.9732\n",
            "Epoch 182/200\n",
            "5/5 [==============================] - 0s 3ms/step - loss: 0.1024 - acc: 0.9732\n",
            "Epoch 183/200\n",
            "5/5 [==============================] - 0s 3ms/step - loss: 0.1071 - acc: 0.9732\n",
            "Epoch 184/200\n",
            "5/5 [==============================] - 0s 4ms/step - loss: 0.1157 - acc: 0.9530\n",
            "Epoch 185/200\n",
            "5/5 [==============================] - 0s 5ms/step - loss: 0.1255 - acc: 0.9664\n",
            "Epoch 186/200\n",
            "5/5 [==============================] - 0s 4ms/step - loss: 0.1045 - acc: 0.9732\n",
            "Epoch 187/200\n",
            "5/5 [==============================] - 0s 4ms/step - loss: 0.1032 - acc: 0.9732\n",
            "Epoch 188/200\n",
            "5/5 [==============================] - 0s 4ms/step - loss: 0.0986 - acc: 0.9799\n",
            "Epoch 189/200\n",
            "5/5 [==============================] - 0s 3ms/step - loss: 0.1033 - acc: 0.9664\n",
            "Epoch 190/200\n",
            "5/5 [==============================] - 0s 5ms/step - loss: 0.1135 - acc: 0.9530\n",
            "Epoch 191/200\n",
            "5/5 [==============================] - 0s 4ms/step - loss: 0.1012 - acc: 0.9799\n",
            "Epoch 192/200\n",
            "5/5 [==============================] - 0s 4ms/step - loss: 0.0975 - acc: 0.9866\n",
            "Epoch 193/200\n",
            "5/5 [==============================] - 0s 4ms/step - loss: 0.1088 - acc: 0.9799\n",
            "Epoch 194/200\n",
            "5/5 [==============================] - 0s 4ms/step - loss: 0.1244 - acc: 0.9530\n",
            "Epoch 195/200\n",
            "5/5 [==============================] - 0s 4ms/step - loss: 0.0967 - acc: 0.9732\n",
            "Epoch 196/200\n",
            "5/5 [==============================] - 0s 3ms/step - loss: 0.0933 - acc: 0.9799\n",
            "Epoch 197/200\n",
            "5/5 [==============================] - 0s 4ms/step - loss: 0.1011 - acc: 0.9597\n",
            "Epoch 198/200\n",
            "5/5 [==============================] - 0s 3ms/step - loss: 0.0988 - acc: 0.9799\n",
            "Epoch 199/200\n",
            "5/5 [==============================] - 0s 3ms/step - loss: 0.1185 - acc: 0.9530\n",
            "Epoch 200/200\n",
            "5/5 [==============================] - 0s 3ms/step - loss: 0.1022 - acc: 0.9597\n"
          ],
          "name": "stdout"
        },
        {
          "output_type": "execute_result",
          "data": {
            "text/plain": [
              "<tensorflow.python.keras.callbacks.History at 0x7fe6c508fd90>"
            ]
          },
          "metadata": {
            "tags": []
          },
          "execution_count": 30
        }
      ]
    },
    {
      "cell_type": "code",
      "metadata": {
        "id": "SXYEtCuv8FRo"
      },
      "source": [
        "from tensorflow import lite\n",
        "converter = lite.TFLiteConverter.from_keras_model(model)"
      ],
      "execution_count": null,
      "outputs": []
    },
    {
      "cell_type": "code",
      "metadata": {
        "id": "w-xg6RX__Kbv",
        "colab": {
          "base_uri": "https://localhost:8080/"
        },
        "outputId": "eb183eb5-c6de-4015-e078-5e2a5b859df8"
      },
      "source": [
        "tfmodel = converter.convert()"
      ],
      "execution_count": null,
      "outputs": [
        {
          "output_type": "stream",
          "text": [
            "INFO:tensorflow:Assets written to: /tmp/tmp0q0ji1p3/assets\n"
          ],
          "name": "stdout"
        },
        {
          "output_type": "stream",
          "text": [
            "INFO:tensorflow:Assets written to: /tmp/tmp0q0ji1p3/assets\n"
          ],
          "name": "stderr"
        }
      ]
    },
    {
      "cell_type": "code",
      "metadata": {
        "id": "wjNhyIMa_MJZ",
        "colab": {
          "base_uri": "https://localhost:8080/"
        },
        "outputId": "e7015c68-a9b5-449a-ecad-c0fcbb8bc1fa"
      },
      "source": [
        "open('iris.tflite', 'wb').write(tfmodel)"
      ],
      "execution_count": null,
      "outputs": [
        {
          "output_type": "execute_result",
          "data": {
            "text/plain": [
              "20488"
            ]
          },
          "metadata": {
            "tags": []
          },
          "execution_count": 36
        }
      ]
    },
    {
      "cell_type": "code",
      "metadata": {
        "id": "Scqyj82iEf1-"
      },
      "source": [
        ""
      ],
      "execution_count": null,
      "outputs": []
    }
  ]
}